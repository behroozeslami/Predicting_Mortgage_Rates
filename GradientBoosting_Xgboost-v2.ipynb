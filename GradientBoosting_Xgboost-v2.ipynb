{
 "cells": [
  {
   "cell_type": "code",
   "execution_count": 1,
   "metadata": {},
   "outputs": [],
   "source": [
    "import pandas as pd\n",
    "import numpy as np\n",
    "import matplotlib.pyplot as plt\n",
    "import seaborn as sns\n",
    "%matplotlib inline\n",
    "\n",
    "import sklearn.metrics as sklm\n",
    "import sklearn.model_selection as ms\n",
    "from sklearn import preprocessing\n",
    "from sklearn.impute import SimpleImputer\n",
    "import xgboost as xgb\n",
    "from sklearn.ensemble import GradientBoostingRegressor\n",
    "from sklearn.ensemble import AdaBoostRegressor\n",
    "from joblib import dump, load"
   ]
  },
  {
   "cell_type": "code",
   "execution_count": 2,
   "metadata": {},
   "outputs": [],
   "source": [
    "def prepare_features(features,test,selected_cols,cat_cols):\n",
    "    \n",
    "    imputer = SimpleImputer(strategy=\"most_frequent\")\n",
    "    imputer.fit(features)\n",
    "    \n",
    "    features_fillna = pd.DataFrame(data=imputer.transform(features),\n",
    "                               columns=features.columns,dtype='float')\n",
    "    test_fillna = pd.DataFrame(data=imputer.transform(test),\n",
    "                               columns=test.columns,dtype='float')\n",
    "\n",
    "    test_row_ids = list(test['row_id']) \n",
    "    \n",
    "    features_fillna.loc[:,cat_cols] = features_fillna[cat_cols].astype('int').astype('category')\n",
    "    test_fillna.loc[:,cat_cols] = test_fillna[cat_cols].astype('int').astype('category')\n",
    "    \n",
    "    train_features = pd.get_dummies(features_fillna[selected_cols])\n",
    "    test_features = pd.get_dummies(test_fillna[selected_cols])\n",
    "    \n",
    "    return train_features,test_features, test_row_ids "
   ]
  },
  {
   "cell_type": "code",
   "execution_count": 3,
   "metadata": {},
   "outputs": [],
   "source": [
    "def get_feature_importances(model,colnames,n):\n",
    "    feature_importances = pd.DataFrame()\n",
    "    feature_importances['features'] = colnames\n",
    "    feature_importances['importance'] = model.feature_importances_ \n",
    "    feature_importances.sort_values(by='importance',ascending=False, inplace=True)\n",
    "    feature_importances.reset_index(drop=True,inplace=True)\n",
    "    feature_importances.set_index('features').iloc[0:n].plot(kind='bar',\n",
    "                                                            figsize=(8,3))\n",
    "    plt.xticks(rotation='vertical')\n",
    "    return feature_importances.head(n)"
   ]
  },
  {
   "cell_type": "code",
   "execution_count": 4,
   "metadata": {},
   "outputs": [],
   "source": [
    "def resample_data(features,labels,target,vals,new_fracs,seed=317):\n",
    "    \n",
    "    data = features.merge(labels,left_index=True,right_index=True)\n",
    "    new_data = pd.DataFrame()\n",
    "    L = len(data)\n",
    "    \n",
    "    for j in range(len(vals)):\n",
    "        f = new_fracs[j]\n",
    "        val = vals[j]\n",
    "        n = int(round(L*f))\n",
    "        sub_data = data[data[target]==val]\n",
    "        sub_L = len(sub_data)\n",
    "        \n",
    "        if (n<=sub_L)and(n>0):\n",
    "            temp = sub_data.sample(n=n,replace=False,\n",
    "                           random_state=seed)\n",
    "        if (n>sub_L):\n",
    "            temp = sub_data.sample(n=n,replace=True,\n",
    "                                   random_state=seed)\n",
    "        if n<=0:\n",
    "            temp = pd.DataFrame()\n",
    "\n",
    "        if len(new_data)==0:\n",
    "            new_data = temp\n",
    "        else:\n",
    "            new_data = pd.concat([new_data,temp])\n",
    "        seed = seed+136\n",
    "        \n",
    "    new_features = new_data.drop(labels=target,axis=1).copy()\n",
    "    new_labels = new_data[target].copy()\n",
    "    return new_features,new_labels,new_data\n",
    "        "
   ]
  },
  {
   "cell_type": "code",
   "execution_count": 5,
   "metadata": {},
   "outputs": [],
   "source": [
    "def optimize_model(X,y,model_filename,already_optimized):\n",
    "    \n",
    "    if already_optimized:\n",
    "        opt_XGBR = load(model_filename) \n",
    "    else:\n",
    "        opt_XGBR = xgb.XGBRegressor(objective='reg:squarederror',max_depth=6,\n",
    "                            learning_rate =0.1,n_estimators=100)\n",
    "        #Optimizing max_depth and min_child_weight\n",
    "        cv1 = ms.KFold(n_splits=4,shuffle = True,random_state=123)\n",
    "        param_test1 = {'max_depth':range(2,25,2),\n",
    "                       'min_child_weight':[1,10,50,100,500,1000,2000]}\n",
    "        GS1 = ms.GridSearchCV(estimator = opt_XGBR, param_grid = param_test1, \n",
    "                          cv = cv1, # Use the inside folds\n",
    "                          scoring = 'r2',\n",
    "                          return_train_score = True,n_jobs=4)\n",
    "        GS1.fit(X,y);\n",
    "        print(GS1.best_params_)\n",
    "        print('r^2 score =',GS1.best_score_)\n",
    "        max_depth = GS1.best_params_['max_depth']\n",
    "        min_child_weight = GS1.best_params_['min_child_weight']\n",
    "        opt_XGBR = xgb.XGBRegressor(objective='reg:squarederror',\n",
    "                                max_depth=max_depth,\n",
    "                                min_child_weight=min_child_weight,\n",
    "                            learning_rate =0.1,n_estimators=100)\n",
    "        #Optimizing gamma\n",
    "        cv2 = ms.KFold(n_splits=4,shuffle = True,random_state=342)\n",
    "        param_test2 = {'gamma':[i/10.0 for i in range(0,5)]}\n",
    "        GS2 = ms.GridSearchCV(estimator = opt_XGBR, param_grid = param_test2, \n",
    "                          cv = cv2, # Use the inside folds\n",
    "                          scoring = 'r2',\n",
    "                      return_train_score = True,n_jobs=4)\n",
    "        GS2.fit(X,y);\n",
    "        print(GS2.best_params_)\n",
    "        print('r^2 score =',GS2.best_score_)\n",
    "        gamma = GS2.best_params_['gamma']\n",
    "        opt_XGBR = xgb.XGBRegressor(objective='reg:squarederror',\n",
    "                                max_depth=max_depth,\n",
    "                                min_child_weight=min_child_weight,\n",
    "                                gamma=gamma,\n",
    "                            learning_rate =0.1,n_estimators=100)\n",
    "        #Optimizing subsample and colsample_bytree\n",
    "        cv3 = ms.KFold(n_splits=4,shuffle = True,random_state=71)\n",
    "        param_test3 = {'subsample':[i/10.0 for i in range(6,10)],\n",
    "                       'colsample_bytree':[i/10.0 for i in range(6,10)]}\n",
    "        GS3 = ms.GridSearchCV(estimator = opt_XGBR, param_grid = param_test3, \n",
    "                          cv = cv3, # Use the inside folds\n",
    "                          scoring = 'r2',\n",
    "                          return_train_score = True,n_jobs=4)\n",
    "        GS3.fit(X,y);\n",
    "        print(GS3.best_params_)\n",
    "        print('r^2 score =',GS3.best_score_)\n",
    "        subsample = GS3.best_params_['subsample']\n",
    "        colsample_bytree = GS3.best_params_['colsample_bytree']\n",
    "        opt_XGBR = xgb.XGBRegressor(objective='reg:squarederror',\n",
    "                                max_depth=max_depth,\n",
    "                                min_child_weight=min_child_weight,\n",
    "                                gamma=gamma,\n",
    "                                colsample_bytree=colsample_bytree,\n",
    "                                subsample = subsample,\n",
    "                            learning_rate =0.1,n_estimators=100)\n",
    "        #Optimizing reg_alpha\n",
    "        cv4 = ms.KFold(n_splits=4,shuffle = True,random_state=129)\n",
    "        param_test4 = {'reg_alpha':[1e-5, 1e-2, 0.1, 1, 100]}\n",
    "        GS4 = ms.GridSearchCV(estimator = opt_XGBR, param_grid = param_test4, \n",
    "                          cv = cv4, # Use the inside folds\n",
    "                          scoring = 'r2',\n",
    "                          return_train_score = True,n_jobs=4)\n",
    "        GS4.fit(X,y);\n",
    "        print(GS4.best_params_)\n",
    "        print('r^2 score =',GS4.best_score_)\n",
    "        reg_alpha = GS4.best_params_['reg_alpha']\n",
    "        opt_XGBR = xgb.XGBRegressor(objective='reg:squarederror',\n",
    "                                max_depth=max_depth,\n",
    "                                min_child_weight=min_child_weight,\n",
    "                                gamma=gamma,\n",
    "                                colsample_bytree=colsample_bytree,\n",
    "                                subsample = subsample,\n",
    "                                reg_alpha = reg_alpha,\n",
    "                            learning_rate =0.1,n_estimators=100)\n",
    "        #Optimizing learning_rate\n",
    "        cv5 = ms.KFold(n_splits=4,shuffle = True,random_state=976)\n",
    "        param_test5 = {'learning_rate':[0.05,0.1,0.3,0.5,1]}\n",
    "        GS5 = ms.GridSearchCV(estimator = opt_XGBR, param_grid = param_test5, \n",
    "                          cv = cv5, # Use the inside folds\n",
    "                          scoring = 'r2',\n",
    "                          return_train_score = True,n_jobs=4)\n",
    "        GS5.fit(X,y);\n",
    "        print(GS5.best_params_)\n",
    "        print('r^2 score =',GS5.best_score_)\n",
    "        learning_rate = GS5.best_params_['learning_rate']\n",
    "        opt_XGBR = xgb.XGBRegressor(objective='reg:squarederror',\n",
    "                                max_depth=max_depth,\n",
    "                                min_child_weight=min_child_weight,\n",
    "                                gamma=gamma,\n",
    "                                colsample_bytree=colsample_bytree,\n",
    "                                subsample = subsample,\n",
    "                                reg_alpha = reg_alpha,\n",
    "                            learning_rate =learning_rate,\n",
    "                                n_estimators=100,\n",
    "                               n_jobs=4)\n",
    "        dump(opt_XGBR, model_filename) \n",
    "    \n",
    "    return opt_XGBR"
   ]
  },
  {
   "cell_type": "code",
   "execution_count": 6,
   "metadata": {},
   "outputs": [],
   "source": [
    "location_cols = ['msa_md','state_code','county_code']\n",
    "loan_info_cols = ['lender','loan_amount','loan_type',\n",
    "                  'property_type','loan_purpose','occupancy',\n",
    "                  'preapproval']\n",
    "applicant_info_cols = ['applicant_income','applicant_ethnicity',\n",
    "                      'applicant_race','applicant_sex','co_applicant']\n",
    "census_info_cols = ['population','minority_population_pct',\n",
    "                    'ffiecmedian_family_income',\n",
    "                    'tract_to_msa_md_income_pct',\n",
    "                    'number_of_owner-occupied_units',\n",
    "                    'number_of_1_to_4_family_units']\n",
    "all_cols = location_cols+loan_info_cols+applicant_info_cols+census_info_cols\n",
    "#numeric columns (except censis info columns)\n",
    "num_cols = ['loan_amount','applicant_income']\n",
    "cat_cols = list(set(all_cols)-set(num_cols+census_info_cols))\n",
    "target = 'rate_spread'"
   ]
  },
  {
   "cell_type": "code",
   "execution_count": 7,
   "metadata": {},
   "outputs": [],
   "source": [
    "features = pd.read_csv('./Data/train_values.csv')\n",
    "features.loc[features.applicant_sex>4,'applicant_sex'] = 4\n",
    "labels = pd.read_csv('./Data/train_labels_abiUmgM.csv')\n",
    "test = pd.read_csv('./Data/test_values.csv')\n",
    "test.loc[test.applicant_sex>4,'applicant_sex'] = 4\n",
    "data = features.merge(labels,on='row_id')"
   ]
  },
  {
   "cell_type": "markdown",
   "metadata": {},
   "source": [
    "# Executive Summary\n",
    "This report presents an analysis of the house mortgage data, which is publicly available data based on the Home Mortgage Disclosure Act (HMDA). \n",
    "\n",
    "A gradient boosting algorithm (from XGBoost package in python) was used to predict the mortgage rate from variables concerning property location, loan characteristics, applicant information and census information. The optimized model is able to explain %58 of the variance in the variance in the test set. As can be expected, the most important features turned out to the loan-related ones, such as property type, loan type, and loan purpose. \n",
    "\n",
    "The process of data exploration, feature selection and model fitting and optimization is described below in more details, followed by potential next steps to improve the model performance."
   ]
  },
  {
   "cell_type": "markdown",
   "metadata": {},
   "source": [
    "# Data Exploration and Feature selection\n",
    "Home mortgage data contains four categories of features: 1) location, 2) loan information, 3) applicant information and 4) census information:"
   ]
  },
  {
   "cell_type": "markdown",
   "metadata": {},
   "source": [
    "- location:\n",
    "['msa_md', 'state_code', 'county_code']"
   ]
  },
  {
   "cell_type": "markdown",
   "metadata": {},
   "source": [
    "#### loan information:\n",
    "['lender', 'loan_amount', 'loan_type', 'property_type', 'loan_purpose', 'occupancy', 'preapproval']\n"
   ]
  },
  {
   "cell_type": "markdown",
   "metadata": {},
   "source": [
    "#### applicant information:\n",
    "['applicant_income', 'applicant_ethnicity', 'applicant_race', 'applicant_sex', 'co_applicant']"
   ]
  },
  {
   "cell_type": "markdown",
   "metadata": {},
   "source": [
    "#### census information:\n",
    "['population', 'minority_population_pct', 'ffiecmedian_family_income', 'tract_to_msa_md_income_pct', 'number_of_owner-occupied_units', 'number_of_1_to_4_family_units']"
   ]
  },
  {
   "cell_type": "markdown",
   "metadata": {},
   "source": [
    "Among these, 'loan_amount', 'applicant_income' and census information are numeric features and the rest are categorical features with no order.\n",
    "The goal is to predict the mortgage rate, ’rate_spread’ using these 21 variables. Below I will investigate the correlations of each of these features with the target variable. I will go through each category separately. "
   ]
  },
  {
   "cell_type": "markdown",
   "metadata": {},
   "source": [
    "## Location "
   ]
  },
  {
   "cell_type": "code",
   "execution_count": 8,
   "metadata": {},
   "outputs": [],
   "source": [
    "location_agg_data = data[['msa_md', target]].groupby('msa_md').mean()\n",
    "location_agg_data.reset_index(inplace=True)\n",
    "location_agg_data.rename(columns={target:target+'_mean'},inplace=True)\n",
    "#location_agg_data['location_group'] = pd.cut(location_agg_data.rate_spread_mean,\n",
    "                                            #bins=[0,2.2,100],\n",
    "                                            #labels=[1,2])\n",
    "location_agg_data['location_group'] = location_agg_data[target+'_mean'].apply(round)"
   ]
  },
  {
   "cell_type": "code",
   "execution_count": 9,
   "metadata": {},
   "outputs": [],
   "source": [
    "location_cols = ['msa_md','state_code','county_code']\n",
    "location_cols.append('location_group')\n",
    "all_cols = location_cols+loan_info_cols+applicant_info_cols+census_info_cols\n",
    "#numeric columns (except censis info columns)\n",
    "num_cols = ['loan_amount','applicant_income']\n",
    "ordered_cat_cols = ['location_group']\n",
    "cat_cols = list(set(all_cols)-set(num_cols+census_info_cols+ordered_cat_cols))\n",
    "\n",
    "if ('location_group' not in features.columns):\n",
    "    features = features.merge(location_agg_data[['msa_md','location_group']],\n",
    "              how='outer',on='msa_md')\n",
    "    data = data.merge(location_agg_data[['msa_md','location_group']],\n",
    "          how='outer',on='msa_md')\n",
    "    labels = data[target]\n",
    "if ('location_group' not in test.columns):\n",
    "    test = test.merge(location_agg_data[['msa_md','location_group']],\n",
    "              how='left',on='msa_md')"
   ]
  },
  {
   "cell_type": "markdown",
   "metadata": {},
   "source": [
    "The column ‘msa_md’ contains 409 distinct codes. In order to include these as a feature it is best to group them into larger categories. The left panel in the Figure below shows the average ’rate_spread’ grouped by ‘msa_md’. The distribution is clearly bimodal. Based on this I divide the ‘msa_md’ values in to two groups (dashed green line): the ones that have an average ’rate_spread’ below 2.2 ('location_group'=1), and the ones with an average above 2.2 ('location_group'=2), thereby I construct the new categorical feature 'location_group'. The box-plot on the left shows that this coarse-grained feature is able to separate the target variable effectively."
   ]
  },
  {
   "cell_type": "code",
   "execution_count": 10,
   "metadata": {
    "scrolled": false
   },
   "outputs": [
    {
     "data": {
      "image/png": "[encoded data removed]",
      "text/plain": [
       "<Figure size 432x288 with 1 Axes>"
      ]
     },
     "metadata": {
      "needs_background": "light"
     },
     "output_type": "display_data"
    }
   ],
   "source": [
    "ax=sns.boxenplot(x='location_group',y=target,data=data)\n",
    "ax.yaxis.tick_right()\n",
    "ax.yaxis.set_label_position(\"right\")\n",
    "plt.ylim([0,10]);"
   ]
  },
  {
   "cell_type": "markdown",
   "metadata": {},
   "source": [
    "## Loan information\n",
    "Among loan info. features, the 'lender' ids cannot be used in model training because the test data has lender ids that don’t appear in the train set. I therefore do not explore them here. Most of other categorical features in the loan info. group correlate with the target variable, and therefore all valuable features. As shown in Figure below, although 'preapproval' does not seem to have an effect on the target, it clearly matter whether 'loan_purpose'=2, 'loan_type'=1, 'property-type'=1 and 'occupancy'=3. This of course does not mean that all these features remain important when they are all included in the model, as the observed variance in some of these features might be explained by the other ones. As we will see, the gradient boosting model is able to select the most important features among these.    "
   ]
  },
  {
   "cell_type": "code",
   "execution_count": 11,
   "metadata": {},
   "outputs": [],
   "source": [
    "lender_agg_data = data[['lender', target]].groupby('lender').mean()\n",
    "lender_agg_data.reset_index(inplace=True)\n",
    "lender_agg_data.rename(columns={target:target+'_mean'},inplace=True)\n",
    "#lender_agg_data['lender_group'] = pd.cut(lender_agg_data.rate_spread_mean,\n",
    "#                                            bins=[0,2,3,100],\n",
    "#                                           labels=[1,2,3])\n",
    "lender_agg_data['lender_group'] = lender_agg_data[target+'_mean'].apply(round)"
   ]
  },
  {
   "cell_type": "code",
   "execution_count": 12,
   "metadata": {},
   "outputs": [],
   "source": [
    "loan_info_cols = ['lender','loan_amount','loan_type',\n",
    "                  'property_type','loan_purpose','occupancy',\n",
    "                  'preapproval']\n",
    "loan_info_cols.append('lender_group')\n",
    "all_cols = location_cols+loan_info_cols+applicant_info_cols+census_info_cols\n",
    "#numeric columns (except censis info columns)\n",
    "num_cols = ['loan_amount','applicant_income']\n",
    "ordered_cat_cols.append('lender_group')\n",
    "cat_cols = list(set(all_cols)-set(num_cols+census_info_cols+ordered_cat_cols))\n",
    "\n",
    "if ('lender_group' not in features.columns):\n",
    "    features = features.merge(lender_agg_data[['lender','lender_group']],\n",
    "              how='outer',on='lender')\n",
    "    data = data.merge(lender_agg_data[['lender','lender_group']],\n",
    "          how='outer',on='lender')\n",
    "    labels = data[target]\n",
    "if ('lender_group' not in test.columns):\n",
    "    test = test.merge(lender_agg_data[['lender','lender_group']],\n",
    "              how='left',on='lender')"
   ]
  },
  {
   "cell_type": "code",
   "execution_count": 13,
   "metadata": {},
   "outputs": [
    {
     "data": {
      "text/plain": [
       "<matplotlib.axes._subplots.AxesSubplot at 0x13aadf896d8>"
      ]
     },
     "execution_count": 13,
     "metadata": {},
     "output_type": "execute_result"
    },
    {
     "data": {
      "image/png": "[encoded data removed]",
      "text/plain": [
       "<Figure size 432x288 with 1 Axes>"
      ]
     },
     "metadata": {
      "needs_background": "light"
     },
     "output_type": "display_data"
    }
   ],
   "source": [
    "sns.boxenplot(x='lender_group',y=target,data=data)\n",
    "#plt.ylim([0,20]);"
   ]
  },
  {
   "cell_type": "code",
   "execution_count": 14,
   "metadata": {
    "scrolled": false
   },
   "outputs": [
    {
     "data": {
      "image/png": "[encoded data removed]",
      "text/plain": [
       "<Figure size 432x288 with 5 Axes>"
      ]
     },
     "metadata": {
      "needs_background": "light"
     },
     "output_type": "display_data"
    }
   ],
   "source": [
    "cols = list((set(loan_info_cols)-set(['lender','lender_group']))&set(cat_cols))\n",
    "plt.figure()\n",
    "pos = 1\n",
    "for col in cols:\n",
    "    if pos==1:\n",
    "        plt.subplot(1,5,pos)\n",
    "        ax=sns.boxenplot(x=col,y=target,data=data)\n",
    "    else:\n",
    "        plt.subplot(1,5,pos,sharey=ax)\n",
    "        ax2=sns.boxenplot(x=col,y=target,data=data)\n",
    "        plt.ylabel('')\n",
    "        plt.setp(ax2.get_yticklabels(), visible=False)\n",
    "        \n",
    "    plt.ylim([0,10])\n",
    "    pos = pos+1"
   ]
  },
  {
   "cell_type": "markdown",
   "metadata": {},
   "source": [
    "As illustrated in the plot below, the numerical feature 'loan_amount' does not seem to correlate with the target. It seems that the highest values of 'loan_amount' correspond to lower values of ‘rate_spread’, but this might be coincidental; an artifact which arises due to the higher density of the data points with lower ‘rate_spread'.  "
   ]
  },
  {
   "cell_type": "code",
   "execution_count": 15,
   "metadata": {},
   "outputs": [
    {
     "data": {
      "image/png": "[encoded data removed]",
      "text/plain": [
       "<Figure size 432x288 with 1 Axes>"
      ]
     },
     "metadata": {
      "needs_background": "light"
     },
     "output_type": "display_data"
    }
   ],
   "source": [
    "cols = list(set(loan_info_cols)&set(num_cols))\n",
    "data[target] = data[target].astype(int)\n",
    "for col in cols:\n",
    "    plt.figure()\n",
    "    sns.boxenplot(y=col,x=target,data=data)\n",
    "    pos = pos+1\n",
    "    #plt.ylim([0,10])"
   ]
  },
  {
   "cell_type": "markdown",
   "metadata": {},
   "source": [
    "## Applicant information"
   ]
  },
  {
   "cell_type": "markdown",
   "metadata": {},
   "source": [
    "In general, as illustrated below, the categorical features in applicant info group do not seem to correlate strongly with the target. It seems that it does not matter whether there is a 'co-applicant' or not. \n",
    "'applicant_race'=1, 'applicant_sex'=4 and 'applicant_ethnicity'=3 both seem to explain some variance in the target but, especially in the two latter cases, this might be coincidental as 'applicant_sex'=4 and 'applicant_ethnicity'=3 mean \"not applicable\" and \"missing information\" respectively."
   ]
  },
  {
   "cell_type": "code",
   "execution_count": 16,
   "metadata": {
    "scrolled": false
   },
   "outputs": [
    {
     "data": {
      "image/png": "[encoded data removed]",
      "text/plain": [
       "<Figure size 432x288 with 4 Axes>"
      ]
     },
     "metadata": {
      "needs_background": "light"
     },
     "output_type": "display_data"
    }
   ],
   "source": [
    "cols = list(set(applicant_info_cols)&set(cat_cols))\n",
    "\n",
    "plt.figure()\n",
    "pos = 1\n",
    "for col in cols:\n",
    "    if pos==1:\n",
    "        plt.subplot(1,4,pos)\n",
    "        ax=sns.boxenplot(x=col,y=target,data=data)\n",
    "    else:\n",
    "        plt.subplot(1,4,pos,sharey=ax)\n",
    "        ax2=sns.boxenplot(x=col,y=target,data=data)\n",
    "        plt.ylabel('')\n",
    "        plt.setp(ax2.get_yticklabels(), visible=False)\n",
    "        \n",
    "    plt.ylim([0,10])\n",
    "    pos = pos+1"
   ]
  },
  {
   "cell_type": "markdown",
   "metadata": {},
   "source": [
    "The numerical feature, ‘applicant_income’, does not show a strong correlation with the target. The pattern is very similar to ‘loan_amount’. In fact, these two variables show a 0.45 correlation."
   ]
  },
  {
   "cell_type": "code",
   "execution_count": 17,
   "metadata": {},
   "outputs": [
    {
     "data": {
      "image/png": "[encoded data removed]",
      "text/plain": [
       "<Figure size 432x288 with 1 Axes>"
      ]
     },
     "metadata": {
      "needs_background": "light"
     },
     "output_type": "display_data"
    }
   ],
   "source": [
    "cols = list(set(applicant_info_cols)&set(num_cols))\n",
    "for col in cols:\n",
    "    plt.figure()\n",
    "    sns.boxenplot(x=target,y=col,data=data)\n",
    "    #plt.ylim([0,10])"
   ]
  },
  {
   "cell_type": "code",
   "execution_count": 18,
   "metadata": {},
   "outputs": [],
   "source": [
    "coef = data[['applicant_income','loan_amount']].corr().iloc[0][1]\n",
    "\n",
    "# sns.jointplot(x='applicant_income',y='loan_amount',\n",
    "#               data=data,kind='reg',height=4)\n",
    "# plt.xlim([0,2000])\n",
    "# plt.ylim([0,2000]);\n",
    "# #plt.title('correlation ='+str(round(coef,2)));"
   ]
  },
  {
   "cell_type": "code",
   "execution_count": 19,
   "metadata": {},
   "outputs": [],
   "source": [
    "#fig = plt.gcf(3)\n",
    "#fig.get_size_inches() # size in pixels"
   ]
  },
  {
   "cell_type": "markdown",
   "metadata": {},
   "source": [
    "Although I will include the applicant information in the model, I expect that applicant information turn out to be less important than the loan information."
   ]
  },
  {
   "cell_type": "markdown",
   "metadata": {},
   "source": [
    "## Census information"
   ]
  },
  {
   "cell_type": "markdown",
   "metadata": {},
   "source": [
    "Census information do not have any direct information related to loan. It might indirectly reflect the location, but I have already included the location information in the model. Based on this, I will not include these features in the model."
   ]
  },
  {
   "cell_type": "code",
   "execution_count": 20,
   "metadata": {},
   "outputs": [],
   "source": [
    "#col = [0]\n",
    "#for col in census_info_cols:\n",
    "    #bins = np.arange(0.8,4,0.2)\n",
    "    #plt.figure()\n",
    "    #sns.distplot(data.groupby(col)[target].mean(),bins=bins);\n",
    "    #plt.title('Grouped by '+col)\n",
    "    #plt.xlabel('average  '+target)\n",
    "    #plt.ylabel('Normalized distribution');"
   ]
  },
  {
   "cell_type": "markdown",
   "metadata": {},
   "source": [
    "## Target variable\n",
    "One important point about the target variable is that it is an integer; it only takes discrete values. The distribution of the target variable is illustrated below together with the summary statistics:"
   ]
  },
  {
   "cell_type": "code",
   "execution_count": 21,
   "metadata": {},
   "outputs": [
    {
     "data": {
      "image/png": "[encoded data removed]",
      "text/plain": [
       "<Figure size 432x288 with 1 Axes>"
      ]
     },
     "metadata": {
      "needs_background": "light"
     },
     "output_type": "display_data"
    }
   ],
   "source": [
    "sns.distplot(labels,bins=range(10),norm_hist=False,kde=False)\n",
    "plt.ylabel('counts');"
   ]
  },
  {
   "cell_type": "code",
   "execution_count": 22,
   "metadata": {},
   "outputs": [
    {
     "data": {
      "text/plain": [
       "count    200000.000000\n",
       "mean          1.979110\n",
       "std           1.656809\n",
       "min           1.000000\n",
       "25%           1.000000\n",
       "50%           1.000000\n",
       "75%           2.000000\n",
       "max          99.000000\n",
       "Name: rate_spread, dtype: float64"
      ]
     },
     "execution_count": 22,
     "metadata": {},
     "output_type": "execute_result"
    }
   ],
   "source": [
    "data[target].describe()"
   ]
  },
  {
   "cell_type": "code",
   "execution_count": 23,
   "metadata": {},
   "outputs": [],
   "source": [
    "#labels.value_counts().sort_index()"
   ]
  },
  {
   "cell_type": "markdown",
   "metadata": {},
   "source": [
    "It is clear that most of the data points have the target value of ‘rate_spread’=1. This have a potential to bias the model towards lower values of the target. To check this, I considered a ‘constant model’, which predicts ‘rate_spread’=1 for every data point. Predicting on the test data set led to an r-squared score of -0.33. This means that the data points with ‘rate_spread’=1 do not completely dominate the variance of the target values. Still, it is possible that the model turns out to be more accurate in predicting lower values of ‘rate_spread’. This issue can be resolved by balancing the data through resampling. Nonetheless in this report I will not go through the resampling the data, with the goal of training a base model on the original data and assessing the effect of the bias."
   ]
  },
  {
   "cell_type": "markdown",
   "metadata": {},
   "source": [
    "# Feature preparation\n",
    "I included in the model the applicant information and loan information features (except the ‘lender’ feature), plus the newly constructed ‘location group’ features. For the ‘applicant-income’ feature, the NaN values were imputed with the most probable value, and an new Boolean feature was created to indicate whether ‘applicant-income’ was undetermined or not. All other features are categorical, and were transformed using one-hot encoding. This produced a feature matrix with 38 columns."
   ]
  },
  {
   "cell_type": "code",
   "execution_count": 24,
   "metadata": {},
   "outputs": [],
   "source": [
    "test.sort_values(by='row_id',inplace=True)\n",
    "selected_cols = list(set(loan_info_cols)-set(['lender']))+['location_group']+applicant_info_cols+census_info_cols\n",
    "\n",
    "train_features, test_features, test_row_ids = prepare_features(features,test,\n",
    "                                                 selected_cols,cat_cols)"
   ]
  },
  {
   "cell_type": "code",
   "execution_count": 25,
   "metadata": {},
   "outputs": [],
   "source": [
    "# vals = np.sort(labels.unique())\n",
    "# new_fracs = np.zeros(len(vals))\n",
    "# new_fracs[0:8] = 1.0\n",
    "# new_fracs = new_fracs/np.sum(new_fracs)\n",
    "# new_train_features,new_labels,_ = resample_data(train_features,labels,target,vals,new_fracs,seed=317)"
   ]
  },
  {
   "cell_type": "code",
   "execution_count": 26,
   "metadata": {},
   "outputs": [
    {
     "name": "stdout",
     "output_type": "stream",
     "text": [
      "(200000, 43)\n"
     ]
    },
    {
     "data": {
      "text/html": [
       "<div>\n",
       "<style scoped>\n",
       "    .dataframe tbody tr th:only-of-type {\n",
       "        vertical-align: middle;\n",
       "    }\n",
       "\n",
       "    .dataframe tbody tr th {\n",
       "        vertical-align: top;\n",
       "    }\n",
       "\n",
       "    .dataframe thead th {\n",
       "        text-align: right;\n",
       "    }\n",
       "</style>\n",
       "<table border=\"1\" class=\"dataframe\">\n",
       "  <thead>\n",
       "    <tr style=\"text-align: right;\">\n",
       "      <th></th>\n",
       "      <th>lender_group</th>\n",
       "      <th>loan_amount</th>\n",
       "      <th>location_group</th>\n",
       "      <th>applicant_income</th>\n",
       "      <th>population</th>\n",
       "      <th>minority_population_pct</th>\n",
       "      <th>ffiecmedian_family_income</th>\n",
       "      <th>tract_to_msa_md_income_pct</th>\n",
       "      <th>number_of_owner-occupied_units</th>\n",
       "      <th>number_of_1_to_4_family_units</th>\n",
       "      <th>...</th>\n",
       "      <th>applicant_race_4</th>\n",
       "      <th>applicant_race_5</th>\n",
       "      <th>applicant_race_6</th>\n",
       "      <th>applicant_race_7</th>\n",
       "      <th>applicant_sex_1</th>\n",
       "      <th>applicant_sex_2</th>\n",
       "      <th>applicant_sex_3</th>\n",
       "      <th>applicant_sex_4</th>\n",
       "      <th>co_applicant_0</th>\n",
       "      <th>co_applicant_1</th>\n",
       "    </tr>\n",
       "  </thead>\n",
       "  <tbody>\n",
       "    <tr>\n",
       "      <th>0</th>\n",
       "      <td>1.0</td>\n",
       "      <td>139.0</td>\n",
       "      <td>2.0</td>\n",
       "      <td>77.0</td>\n",
       "      <td>5949.0</td>\n",
       "      <td>11.642</td>\n",
       "      <td>63192.0</td>\n",
       "      <td>100.000</td>\n",
       "      <td>1556.0</td>\n",
       "      <td>1993.0</td>\n",
       "      <td>...</td>\n",
       "      <td>0</td>\n",
       "      <td>1</td>\n",
       "      <td>0</td>\n",
       "      <td>0</td>\n",
       "      <td>1</td>\n",
       "      <td>0</td>\n",
       "      <td>0</td>\n",
       "      <td>0</td>\n",
       "      <td>0</td>\n",
       "      <td>1</td>\n",
       "    </tr>\n",
       "    <tr>\n",
       "      <th>1</th>\n",
       "      <td>1.0</td>\n",
       "      <td>129.0</td>\n",
       "      <td>2.0</td>\n",
       "      <td>99.0</td>\n",
       "      <td>4656.0</td>\n",
       "      <td>1.943</td>\n",
       "      <td>60677.0</td>\n",
       "      <td>100.000</td>\n",
       "      <td>1684.0</td>\n",
       "      <td>2053.0</td>\n",
       "      <td>...</td>\n",
       "      <td>0</td>\n",
       "      <td>1</td>\n",
       "      <td>0</td>\n",
       "      <td>0</td>\n",
       "      <td>1</td>\n",
       "      <td>0</td>\n",
       "      <td>0</td>\n",
       "      <td>0</td>\n",
       "      <td>0</td>\n",
       "      <td>1</td>\n",
       "    </tr>\n",
       "    <tr>\n",
       "      <th>2</th>\n",
       "      <td>1.0</td>\n",
       "      <td>97.0</td>\n",
       "      <td>2.0</td>\n",
       "      <td>45.0</td>\n",
       "      <td>5135.0</td>\n",
       "      <td>12.460</td>\n",
       "      <td>61258.0</td>\n",
       "      <td>100.000</td>\n",
       "      <td>1372.0</td>\n",
       "      <td>3083.0</td>\n",
       "      <td>...</td>\n",
       "      <td>0</td>\n",
       "      <td>1</td>\n",
       "      <td>0</td>\n",
       "      <td>0</td>\n",
       "      <td>1</td>\n",
       "      <td>0</td>\n",
       "      <td>0</td>\n",
       "      <td>0</td>\n",
       "      <td>0</td>\n",
       "      <td>1</td>\n",
       "    </tr>\n",
       "    <tr>\n",
       "      <th>3</th>\n",
       "      <td>1.0</td>\n",
       "      <td>32.0</td>\n",
       "      <td>2.0</td>\n",
       "      <td>43.0</td>\n",
       "      <td>1828.0</td>\n",
       "      <td>2.122</td>\n",
       "      <td>59805.0</td>\n",
       "      <td>77.174</td>\n",
       "      <td>719.0</td>\n",
       "      <td>904.0</td>\n",
       "      <td>...</td>\n",
       "      <td>0</td>\n",
       "      <td>1</td>\n",
       "      <td>0</td>\n",
       "      <td>0</td>\n",
       "      <td>1</td>\n",
       "      <td>0</td>\n",
       "      <td>0</td>\n",
       "      <td>0</td>\n",
       "      <td>1</td>\n",
       "      <td>0</td>\n",
       "    </tr>\n",
       "    <tr>\n",
       "      <th>4</th>\n",
       "      <td>1.0</td>\n",
       "      <td>88.0</td>\n",
       "      <td>2.0</td>\n",
       "      <td>50.0</td>\n",
       "      <td>3433.0</td>\n",
       "      <td>5.161</td>\n",
       "      <td>59167.0</td>\n",
       "      <td>100.000</td>\n",
       "      <td>1167.0</td>\n",
       "      <td>1559.0</td>\n",
       "      <td>...</td>\n",
       "      <td>0</td>\n",
       "      <td>1</td>\n",
       "      <td>0</td>\n",
       "      <td>0</td>\n",
       "      <td>0</td>\n",
       "      <td>1</td>\n",
       "      <td>0</td>\n",
       "      <td>0</td>\n",
       "      <td>0</td>\n",
       "      <td>1</td>\n",
       "    </tr>\n",
       "  </tbody>\n",
       "</table>\n",
       "<p>5 rows × 43 columns</p>\n",
       "</div>"
      ],
      "text/plain": [
       "   lender_group  loan_amount  location_group  applicant_income  population  \\\n",
       "0           1.0        139.0             2.0              77.0      5949.0   \n",
       "1           1.0        129.0             2.0              99.0      4656.0   \n",
       "2           1.0         97.0             2.0              45.0      5135.0   \n",
       "3           1.0         32.0             2.0              43.0      1828.0   \n",
       "4           1.0         88.0             2.0              50.0      3433.0   \n",
       "\n",
       "   minority_population_pct  ffiecmedian_family_income  \\\n",
       "0                   11.642                    63192.0   \n",
       "1                    1.943                    60677.0   \n",
       "2                   12.460                    61258.0   \n",
       "3                    2.122                    59805.0   \n",
       "4                    5.161                    59167.0   \n",
       "\n",
       "   tract_to_msa_md_income_pct  number_of_owner-occupied_units  \\\n",
       "0                     100.000                          1556.0   \n",
       "1                     100.000                          1684.0   \n",
       "2                     100.000                          1372.0   \n",
       "3                      77.174                           719.0   \n",
       "4                     100.000                          1167.0   \n",
       "\n",
       "   number_of_1_to_4_family_units  ...  applicant_race_4  applicant_race_5  \\\n",
       "0                         1993.0  ...                 0                 1   \n",
       "1                         2053.0  ...                 0                 1   \n",
       "2                         3083.0  ...                 0                 1   \n",
       "3                          904.0  ...                 0                 1   \n",
       "4                         1559.0  ...                 0                 1   \n",
       "\n",
       "   applicant_race_6  applicant_race_7  applicant_sex_1  applicant_sex_2  \\\n",
       "0                 0                 0                1                0   \n",
       "1                 0                 0                1                0   \n",
       "2                 0                 0                1                0   \n",
       "3                 0                 0                1                0   \n",
       "4                 0                 0                0                1   \n",
       "\n",
       "   applicant_sex_3  applicant_sex_4  co_applicant_0  co_applicant_1  \n",
       "0                0                0               0               1  \n",
       "1                0                0               0               1  \n",
       "2                0                0               0               1  \n",
       "3                0                0               1               0  \n",
       "4                0                0               0               1  \n",
       "\n",
       "[5 rows x 43 columns]"
      ]
     },
     "execution_count": 26,
     "metadata": {},
     "output_type": "execute_result"
    }
   ],
   "source": [
    "print(train_features.shape)\n",
    "train_features.head()"
   ]
  },
  {
   "cell_type": "code",
   "execution_count": 27,
   "metadata": {},
   "outputs": [
    {
     "name": "stdout",
     "output_type": "stream",
     "text": [
      "(200000, 43)\n"
     ]
    },
    {
     "data": {
      "text/html": [
       "<div>\n",
       "<style scoped>\n",
       "    .dataframe tbody tr th:only-of-type {\n",
       "        vertical-align: middle;\n",
       "    }\n",
       "\n",
       "    .dataframe tbody tr th {\n",
       "        vertical-align: top;\n",
       "    }\n",
       "\n",
       "    .dataframe thead th {\n",
       "        text-align: right;\n",
       "    }\n",
       "</style>\n",
       "<table border=\"1\" class=\"dataframe\">\n",
       "  <thead>\n",
       "    <tr style=\"text-align: right;\">\n",
       "      <th></th>\n",
       "      <th>lender_group</th>\n",
       "      <th>loan_amount</th>\n",
       "      <th>location_group</th>\n",
       "      <th>applicant_income</th>\n",
       "      <th>population</th>\n",
       "      <th>minority_population_pct</th>\n",
       "      <th>ffiecmedian_family_income</th>\n",
       "      <th>tract_to_msa_md_income_pct</th>\n",
       "      <th>number_of_owner-occupied_units</th>\n",
       "      <th>number_of_1_to_4_family_units</th>\n",
       "      <th>...</th>\n",
       "      <th>applicant_race_4</th>\n",
       "      <th>applicant_race_5</th>\n",
       "      <th>applicant_race_6</th>\n",
       "      <th>applicant_race_7</th>\n",
       "      <th>applicant_sex_1</th>\n",
       "      <th>applicant_sex_2</th>\n",
       "      <th>applicant_sex_3</th>\n",
       "      <th>applicant_sex_4</th>\n",
       "      <th>co_applicant_0</th>\n",
       "      <th>co_applicant_1</th>\n",
       "    </tr>\n",
       "  </thead>\n",
       "  <tbody>\n",
       "    <tr>\n",
       "      <th>0</th>\n",
       "      <td>6.0</td>\n",
       "      <td>46.0</td>\n",
       "      <td>2.0</td>\n",
       "      <td>50.0</td>\n",
       "      <td>10761.0</td>\n",
       "      <td>43.415</td>\n",
       "      <td>61732.0</td>\n",
       "      <td>100.000</td>\n",
       "      <td>2900.0</td>\n",
       "      <td>3603.0</td>\n",
       "      <td>...</td>\n",
       "      <td>0</td>\n",
       "      <td>1</td>\n",
       "      <td>0</td>\n",
       "      <td>0</td>\n",
       "      <td>0</td>\n",
       "      <td>1</td>\n",
       "      <td>0</td>\n",
       "      <td>0</td>\n",
       "      <td>1</td>\n",
       "      <td>0</td>\n",
       "    </tr>\n",
       "    <tr>\n",
       "      <th>1</th>\n",
       "      <td>3.0</td>\n",
       "      <td>170.0</td>\n",
       "      <td>2.0</td>\n",
       "      <td>155.0</td>\n",
       "      <td>2285.0</td>\n",
       "      <td>20.115</td>\n",
       "      <td>50373.0</td>\n",
       "      <td>100.000</td>\n",
       "      <td>539.0</td>\n",
       "      <td>873.0</td>\n",
       "      <td>...</td>\n",
       "      <td>0</td>\n",
       "      <td>1</td>\n",
       "      <td>0</td>\n",
       "      <td>0</td>\n",
       "      <td>1</td>\n",
       "      <td>0</td>\n",
       "      <td>0</td>\n",
       "      <td>0</td>\n",
       "      <td>1</td>\n",
       "      <td>0</td>\n",
       "    </tr>\n",
       "    <tr>\n",
       "      <th>2</th>\n",
       "      <td>2.0</td>\n",
       "      <td>174.0</td>\n",
       "      <td>2.0</td>\n",
       "      <td>102.0</td>\n",
       "      <td>7765.0</td>\n",
       "      <td>78.621</td>\n",
       "      <td>75175.0</td>\n",
       "      <td>54.165</td>\n",
       "      <td>1559.0</td>\n",
       "      <td>1712.0</td>\n",
       "      <td>...</td>\n",
       "      <td>0</td>\n",
       "      <td>1</td>\n",
       "      <td>0</td>\n",
       "      <td>0</td>\n",
       "      <td>1</td>\n",
       "      <td>0</td>\n",
       "      <td>0</td>\n",
       "      <td>0</td>\n",
       "      <td>1</td>\n",
       "      <td>0</td>\n",
       "    </tr>\n",
       "    <tr>\n",
       "      <th>3</th>\n",
       "      <td>2.0</td>\n",
       "      <td>116.0</td>\n",
       "      <td>2.0</td>\n",
       "      <td>51.0</td>\n",
       "      <td>3387.0</td>\n",
       "      <td>96.208</td>\n",
       "      <td>48677.0</td>\n",
       "      <td>74.476</td>\n",
       "      <td>938.0</td>\n",
       "      <td>784.0</td>\n",
       "      <td>...</td>\n",
       "      <td>0</td>\n",
       "      <td>1</td>\n",
       "      <td>0</td>\n",
       "      <td>0</td>\n",
       "      <td>1</td>\n",
       "      <td>0</td>\n",
       "      <td>0</td>\n",
       "      <td>0</td>\n",
       "      <td>0</td>\n",
       "      <td>1</td>\n",
       "    </tr>\n",
       "    <tr>\n",
       "      <th>4</th>\n",
       "      <td>2.0</td>\n",
       "      <td>108.0</td>\n",
       "      <td>2.0</td>\n",
       "      <td>88.0</td>\n",
       "      <td>3106.0</td>\n",
       "      <td>6.370</td>\n",
       "      <td>68070.0</td>\n",
       "      <td>100.000</td>\n",
       "      <td>1119.0</td>\n",
       "      <td>1301.0</td>\n",
       "      <td>...</td>\n",
       "      <td>0</td>\n",
       "      <td>1</td>\n",
       "      <td>0</td>\n",
       "      <td>0</td>\n",
       "      <td>1</td>\n",
       "      <td>0</td>\n",
       "      <td>0</td>\n",
       "      <td>0</td>\n",
       "      <td>1</td>\n",
       "      <td>0</td>\n",
       "    </tr>\n",
       "  </tbody>\n",
       "</table>\n",
       "<p>5 rows × 43 columns</p>\n",
       "</div>"
      ],
      "text/plain": [
       "   lender_group  loan_amount  location_group  applicant_income  population  \\\n",
       "0           6.0         46.0             2.0              50.0     10761.0   \n",
       "1           3.0        170.0             2.0             155.0      2285.0   \n",
       "2           2.0        174.0             2.0             102.0      7765.0   \n",
       "3           2.0        116.0             2.0              51.0      3387.0   \n",
       "4           2.0        108.0             2.0              88.0      3106.0   \n",
       "\n",
       "   minority_population_pct  ffiecmedian_family_income  \\\n",
       "0                   43.415                    61732.0   \n",
       "1                   20.115                    50373.0   \n",
       "2                   78.621                    75175.0   \n",
       "3                   96.208                    48677.0   \n",
       "4                    6.370                    68070.0   \n",
       "\n",
       "   tract_to_msa_md_income_pct  number_of_owner-occupied_units  \\\n",
       "0                     100.000                          2900.0   \n",
       "1                     100.000                           539.0   \n",
       "2                      54.165                          1559.0   \n",
       "3                      74.476                           938.0   \n",
       "4                     100.000                          1119.0   \n",
       "\n",
       "   number_of_1_to_4_family_units  ...  applicant_race_4  applicant_race_5  \\\n",
       "0                         3603.0  ...                 0                 1   \n",
       "1                          873.0  ...                 0                 1   \n",
       "2                         1712.0  ...                 0                 1   \n",
       "3                          784.0  ...                 0                 1   \n",
       "4                         1301.0  ...                 0                 1   \n",
       "\n",
       "   applicant_race_6  applicant_race_7  applicant_sex_1  applicant_sex_2  \\\n",
       "0                 0                 0                0                1   \n",
       "1                 0                 0                1                0   \n",
       "2                 0                 0                1                0   \n",
       "3                 0                 0                1                0   \n",
       "4                 0                 0                1                0   \n",
       "\n",
       "   applicant_sex_3  applicant_sex_4  co_applicant_0  co_applicant_1  \n",
       "0                0                0               1               0  \n",
       "1                0                0               1               0  \n",
       "2                0                0               1               0  \n",
       "3                0                0               0               1  \n",
       "4                0                0               1               0  \n",
       "\n",
       "[5 rows x 43 columns]"
      ]
     },
     "execution_count": 27,
     "metadata": {},
     "output_type": "execute_result"
    }
   ],
   "source": [
    "print(test_features.shape)\n",
    "test_features.head()"
   ]
  },
  {
   "cell_type": "code",
   "execution_count": 28,
   "metadata": {},
   "outputs": [],
   "source": [
    "X = train_features.to_numpy()\n",
    "y = np.ravel(labels.to_numpy())\n",
    "X_test = test_features.to_numpy()"
   ]
  },
  {
   "cell_type": "markdown",
   "metadata": {},
   "source": [
    "# Training and optimization a gradient boosting regressor\n",
    "Initially I tried an Adaboost regressor, which resulted in a low predictive power (r-squared ~ 0.39). Using a gradient boosting regressor from XGboost package resulted in a significantly improved performance. Using the default setting with booster='gbtree' and objective= 'reg:squarederror' yielded an r-squared of about 0.54. I therefore decided to continue with the gradient boosting method.\n",
    "\n",
    "The ‘GradientBoostingRegressor’ has multiple tunable parameters (see https://www.analyticsvidhya.com/blog/2016/03/complete-guide-parameter-tuning-xgboost-with-codes-python/). \n",
    "These include\n",
    "\n",
    "-\tmax_depth [default: 3]: The maximum depth of a tree.\n",
    "-\tlearning_rate [default: 0.1]: The learning rate.\n",
    "-\tn_estimators [default: 100]: The number of boosting stages to perform.\n",
    "-\tgamma [default: 0]: A node is split only when the resulting split gives a positive reduction in the loss function. Gamma specifies the minimum loss reduction required to make a split.\n",
    "-\tmin_child_weight [default: 1]: Defines the minimum sum of weights of all observations required in a child.\n",
    "-\tmax_delta_step [default: 0]: In maximum delta step we allow each tree’s weight estimation to be. If the value is set to 0, it means there is no constraint. If it is set to a positive value, it can help making the update step more conservative.\n",
    "-\tSubsample [default: 1]: Denotes the fraction of observations to be randomly samples for each tree.\n",
    "-\tcolsample_bytree [default: 1]: Denotes the fraction of columns to be randomly sampled for each tree.\n",
    "-\tcolsample_bylevel [default: 1]: Denotes the subsample ratio of columns for each split, in each level.\n",
    "-\tcolsample_bynode [default: 1]: Denotes the subsample ratio of columns for each split.\n",
    "-\treg_alpha [default: 0]: L1 regularization term on weight (analogous to Lasso regression).\n",
    "-\treg_lambda [default: 1]: L2 regularization term on weights (analogous to Ridge regression).\n",
    "-\tscale_pos_weight [default: 1]: A value greater than 0 should be used in case of high class imbalance as it helps in faster convergence.\n",
    " \n"
   ]
  },
  {
   "cell_type": "code",
   "execution_count": 29,
   "metadata": {},
   "outputs": [
    {
     "name": "stdout",
     "output_type": "stream",
     "text": [
      "{'max_depth': 12, 'min_child_weight': 100}\n",
      "r^2 score = 0.7390054726768674\n",
      "{'gamma': 0.4}\n",
      "r^2 score = 0.7396873872120951\n",
      "{'colsample_bytree': 0.9, 'subsample': 0.9}\n",
      "r^2 score = 0.7386285352222725\n",
      "{'reg_alpha': 0.1}\n",
      "r^2 score = 0.7383175085787065\n",
      "{'learning_rate': 0.05}\n",
      "r^2 score = 0.7385507809817221\n"
     ]
    }
   ],
   "source": [
    "already_optimized = True\n",
    "model_filename = 'opt_Xgboost_reg_final.joblib'\n",
    "\n",
    "opt_XGBR = optimize_model(X,y,model_filename,already_optimized)"
   ]
  },
  {
   "cell_type": "markdown",
   "metadata": {},
   "source": [
    "Using the grid-search cross-validation (‘GridSearchCV’in sklearn), I optimized seven of these parameters in five steps in the following order: 1) ‘max_depth’ together with ‘min_child_weight’, 2) ‘gamma’, 3) ‘subsample’ together with  ‘colsample_bytree’, 4) 'reg_alpha' and 5) ‘learning_rate’. This resulted in the following optimal parameters: ‘max_depth’=8, ‘min_child_weight’=50, ‘gamma’=0.3, ‘subsample’=0.9, ‘colsample_bytree’=0.7, ‘reg_alpha’=1e-05 and ‘learning_rate’=0.1. "
   ]
  },
  {
   "cell_type": "markdown",
   "metadata": {},
   "source": [
    "# Validating the model\n",
    "To validate the model, I followed the usual practice of splitting the data into a training set and a validation set (with ‘test_size=0.33’ in the ‘train_test_split’ method in sklearn). Traning the model retuned the following feature importance: "
   ]
  },
  {
   "cell_type": "markdown",
   "metadata": {},
   "source": [
    "#### Cross validation"
   ]
  },
  {
   "cell_type": "code",
   "execution_count": 54,
   "metadata": {},
   "outputs": [
    {
     "name": "stdout",
     "output_type": "stream",
     "text": [
      "0.7388362763283842\n",
      "0.019219752018817378\n"
     ]
    }
   ],
   "source": [
    "cv = ms.KFold(n_splits=4,shuffle = True,random_state=546)\n",
    "scores = ms.cross_val_score(opt_XGBR,X,y,cv=cv,scoring='r2')\n",
    "print(np.mean(scores))\n",
    "print(np.std(scores))"
   ]
  },
  {
   "cell_type": "code",
   "execution_count": 49,
   "metadata": {},
   "outputs": [],
   "source": [
    " X_train, X_val, y_train, y_val = ms.train_test_split(\n",
    "...     X, y, test_size=0.33, random_state=75)"
   ]
  },
  {
   "cell_type": "code",
   "execution_count": 50,
   "metadata": {},
   "outputs": [],
   "source": [
    "opt_XGBR.fit(X_train,y_train);"
   ]
  },
  {
   "cell_type": "markdown",
   "metadata": {},
   "source": [
    "As expected, the top five most important features are all in the loan information group ( ‘property_type_1’, ‘property_type_2’, ‘loan_type_2’, ‘loan_type_1’ and ‘loan_purpose_2’, respectively). Applicant-related features (such as ‘applicant_ethnicity_4’) appear with a much lower rank (more than 20 times smaller compared to the most important feature). Surprisingly, the constructed feature 'location_group' turned out to be unimportant. This means that the observed difference in 'location_group' can be captured by other features.  "
   ]
  },
  {
   "cell_type": "code",
   "execution_count": 51,
   "metadata": {},
   "outputs": [
    {
     "data": {
      "image/png": "[encoded data removed]",
      "text/plain": [
       "<Figure size 576x216 with 1 Axes>"
      ]
     },
     "metadata": {
      "needs_background": "light"
     },
     "output_type": "display_data"
    }
   ],
   "source": [
    "importances = get_feature_importances(opt_XGBR,\n",
    "                       colnames=train_features.columns,\n",
    "                            n=len(train_features.columns))"
   ]
  },
  {
   "cell_type": "code",
   "execution_count": 52,
   "metadata": {},
   "outputs": [
    {
     "data": {
      "text/html": [
       "<div>\n",
       "<style scoped>\n",
       "    .dataframe tbody tr th:only-of-type {\n",
       "        vertical-align: middle;\n",
       "    }\n",
       "\n",
       "    .dataframe tbody tr th {\n",
       "        vertical-align: top;\n",
       "    }\n",
       "\n",
       "    .dataframe thead th {\n",
       "        text-align: right;\n",
       "    }\n",
       "</style>\n",
       "<table border=\"1\" class=\"dataframe\">\n",
       "  <thead>\n",
       "    <tr style=\"text-align: right;\">\n",
       "      <th></th>\n",
       "      <th>features</th>\n",
       "      <th>importance</th>\n",
       "    </tr>\n",
       "  </thead>\n",
       "  <tbody>\n",
       "    <tr>\n",
       "      <th>0</th>\n",
       "      <td>lender_group</td>\n",
       "      <td>0.859831</td>\n",
       "    </tr>\n",
       "    <tr>\n",
       "      <th>1</th>\n",
       "      <td>property_type_1</td>\n",
       "      <td>0.029540</td>\n",
       "    </tr>\n",
       "    <tr>\n",
       "      <th>2</th>\n",
       "      <td>loan_amount</td>\n",
       "      <td>0.013736</td>\n",
       "    </tr>\n",
       "    <tr>\n",
       "      <th>3</th>\n",
       "      <td>loan_type_1</td>\n",
       "      <td>0.011651</td>\n",
       "    </tr>\n",
       "    <tr>\n",
       "      <th>4</th>\n",
       "      <td>loan_purpose_2</td>\n",
       "      <td>0.010597</td>\n",
       "    </tr>\n",
       "    <tr>\n",
       "      <th>5</th>\n",
       "      <td>property_type_2</td>\n",
       "      <td>0.006675</td>\n",
       "    </tr>\n",
       "    <tr>\n",
       "      <th>6</th>\n",
       "      <td>applicant_sex_3</td>\n",
       "      <td>0.006098</td>\n",
       "    </tr>\n",
       "    <tr>\n",
       "      <th>7</th>\n",
       "      <td>occupancy_1</td>\n",
       "      <td>0.003807</td>\n",
       "    </tr>\n",
       "    <tr>\n",
       "      <th>8</th>\n",
       "      <td>loan_purpose_1</td>\n",
       "      <td>0.003559</td>\n",
       "    </tr>\n",
       "    <tr>\n",
       "      <th>9</th>\n",
       "      <td>applicant_ethnicity_3</td>\n",
       "      <td>0.003449</td>\n",
       "    </tr>\n",
       "  </tbody>\n",
       "</table>\n",
       "</div>"
      ],
      "text/plain": [
       "                features  importance\n",
       "0           lender_group    0.859831\n",
       "1        property_type_1    0.029540\n",
       "2            loan_amount    0.013736\n",
       "3            loan_type_1    0.011651\n",
       "4         loan_purpose_2    0.010597\n",
       "5        property_type_2    0.006675\n",
       "6        applicant_sex_3    0.006098\n",
       "7            occupancy_1    0.003807\n",
       "8         loan_purpose_1    0.003559\n",
       "9  applicant_ethnicity_3    0.003449"
      ]
     },
     "execution_count": 52,
     "metadata": {},
     "output_type": "execute_result"
    }
   ],
   "source": [
    "importances.head(10)"
   ]
  },
  {
   "cell_type": "code",
   "execution_count": 53,
   "metadata": {},
   "outputs": [
    {
     "data": {
      "text/plain": [
       "0.7382927201374554"
      ]
     },
     "execution_count": 53,
     "metadata": {},
     "output_type": "execute_result"
    }
   ],
   "source": [
    "sklm.r2_score(y_val,opt_XGBR.predict(X_val))"
   ]
  },
  {
   "cell_type": "code",
   "execution_count": 36,
   "metadata": {},
   "outputs": [],
   "source": [
    "validation = pd.DataFrame()\n",
    "validation['data']=y_val\n",
    "validation['data'] = validation['data'].astype(int)\n",
    "validation['prediction']=opt_XGBR.predict(X_val)"
   ]
  },
  {
   "cell_type": "markdown",
   "metadata": {},
   "source": [
    "Prediction on the validation set yielded an r-squared of 0.57, quite similar to the obtained test score of 0.58. This indicates that the model generalizes well. The Figure below compares the actual vs. predicted target values for the validation set (only the data points with ‘rate_spread’ smaller than 15 are shown). In general, the model has a decent performance. However, it is clear that the model performs better for ‘rate_spread’=1,2 compared to larger target values where the predictions underestimate the actual values. This implies that the large number of low target values has indeed partially biased the model. "
   ]
  },
  {
   "cell_type": "code",
   "execution_count": 37,
   "metadata": {},
   "outputs": [
    {
     "data": {
      "image/png": "[encoded data removed]",
      "text/plain": [
       "<Figure size 432x288 with 1 Axes>"
      ]
     },
     "metadata": {
      "needs_background": "light"
     },
     "output_type": "display_data"
    }
   ],
   "source": [
    "sns.boxenplot(x='data',y='prediction',data=validation)\n",
    "plt.plot([0,14],[1,15],'k--');\n",
    "plt.xlim([-1,13.5]);"
   ]
  },
  {
   "cell_type": "code",
   "execution_count": 38,
   "metadata": {
    "scrolled": true
   },
   "outputs": [],
   "source": [
    "opt_XGBR.fit(X,y)\n",
    "y_pred = opt_XGBR.predict(X_test)"
   ]
  },
  {
   "cell_type": "code",
   "execution_count": 39,
   "metadata": {},
   "outputs": [],
   "source": [
    "predictions = pd.DataFrame()\n",
    "predictions['row_id'] = test.row_id\n",
    "predictions[target] = y_pred\n",
    "#predictions.head()"
   ]
  },
  {
   "cell_type": "markdown",
   "metadata": {},
   "source": [
    "# Conclusion\n",
    "This report describes the procedure I followed to predict the mortgage rate from location-related, loan-related and applicant-related variables. A gradient boosting algorithm was shown to be able to capture nearly 60 percent of the variance in the test data set, identifying the loan-related features as the dominant predictors.\n",
    "\n",
    "The next step to improve the model predictive power is to resample the training data to eliminate the imbalance in the distribution of the target variables."
   ]
  },
  {
   "cell_type": "code",
   "execution_count": 41,
   "metadata": {},
   "outputs": [],
   "source": [
    "# Appendix: Initial trainings"
   ]
  },
  {
   "cell_type": "code",
   "execution_count": 42,
   "metadata": {},
   "outputs": [],
   "source": [
    "#Testing other models (AdaBoost)\n",
    "adaboost_model = AdaBoostRegressor()\n",
    "adaboost_model.fit(X_train,y_train)\n",
    "adaboost_r2 = sklm.r2_score(y_val,adaboost_model.predict(X_val))"
   ]
  },
  {
   "cell_type": "code",
   "execution_count": 43,
   "metadata": {},
   "outputs": [],
   "source": [
    "# Default xgboost\n",
    "xgboost_model = xgb.XGBRegressor(objective='reg:squarederror')\n",
    "xgboost_model.fit(X_train,y_train)\n",
    "xgboost_r2 = sklm.r2_score(y_val,xgboost_model.predict(X_val))"
   ]
  },
  {
   "cell_type": "code",
   "execution_count": null,
   "metadata": {},
   "outputs": [],
   "source": []
  }
 ],
 "metadata": {
  "kernelspec": {
   "display_name": "Python 3",
   "language": "python",
   "name": "python3"
  },
  "language_info": {
   "codemirror_mode": {
    "name": "ipython",
    "version": 3
   },
   "file_extension": ".py",
   "mimetype": "text/x-python",
   "name": "python",
   "nbconvert_exporter": "python",
   "pygments_lexer": "ipython3",
   "version": "3.6.8"
  }
 },
 "nbformat": 4,
 "nbformat_minor": 2
}
